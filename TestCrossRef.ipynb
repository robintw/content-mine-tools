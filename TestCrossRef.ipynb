{
 "cells": [
  {
   "cell_type": "code",
   "execution_count": 44,
   "metadata": {
    "collapsed": true
   },
   "outputs": [],
   "source": [
    "import requests\n",
    "import logging"
   ]
  },
  {
   "cell_type": "code",
   "execution_count": 12,
   "metadata": {
    "collapsed": true
   },
   "outputs": [],
   "source": [
    "def get_result_count(url, params):\n",
    "    params['rows'] = 0\n",
    "    \n",
    "    r = requests.get(url, params=params)\n",
    "    \n",
    "    j = r.json()\n",
    "    \n",
    "    return int(j['message']['total-results'])"
   ]
  },
  {
   "cell_type": "code",
   "execution_count": 40,
   "metadata": {
    "collapsed": false
   },
   "outputs": [],
   "source": [
    "def get_dois(query, just_doi=False):\n",
    "    base_url = \"http://api.crossref.org/works\"\n",
    "    \n",
    "    if just_doi:\n",
    "        field = 'DOI'\n",
    "    else:\n",
    "        field = 'URL'\n",
    "    \n",
    "    doi_list = []\n",
    "    \n",
    "    # Set the params for the query\n",
    "    params = {'filter': query}\n",
    "    \n",
    "    count = get_result_count(base_url, params)\n",
    "    \n",
    "    logging.debug('Total result count %d' % count)\n",
    "    \n",
    "    if count < 1000:\n",
    "        # We can get them all in one go\n",
    "        params['rows'] = 1000\n",
    "        r = requests.get(base_url, params=params)\n",
    "        \n",
    "        doi_list = [i['URL'] for i in r.json()['message']['items']]\n",
    "    else:\n",
    "        # We need to use cursors etc\n",
    "        \n",
    "        # Call once with cursor set to *\n",
    "        params['rows'] = 500\n",
    "        \n",
    "        params['cursor'] = '*'\n",
    "        r = requests.get(base_url, params=params)\n",
    "        \n",
    "        logging.debug('Getting %s' % r.url)\n",
    "        cursor = r.json()['message']['next-cursor']\n",
    "        \n",
    "        doi_list = [i['URL'] for i in r.json()['message']['items']]\n",
    "\n",
    "        params['cursor'] = cursor\n",
    "        \n",
    "        while True:\n",
    "            r = requests.get(base_url, params=params)\n",
    "            \n",
    "            logging.debug('Getting %s' % r.url)\n",
    "            \n",
    "            new_dois = [i['URL'] for i in r.json()['message']['items']]\n",
    "            \n",
    "            \n",
    "            doi_list += new_dois\n",
    "            \n",
    "            logging.debug(\"Received %d items\" % len(r.json()['message']['items']))\n",
    "\n",
    "            if len(r.json()['message']['items']) < params['rows']:\n",
    "                break\n",
    "                \n",
    "            cursor = r.json()['message']['next-cursor']\n",
    "            params['cursor'] = cursor\n",
    "\n",
    "        \n",
    "    return doi_list"
   ]
  },
  {
   "cell_type": "code",
   "execution_count": 41,
   "metadata": {
    "collapsed": false
   },
   "outputs": [
    {
     "name": "stdout",
     "output_type": "stream",
     "text": [
      "2303\n",
      "http://api.crossref.org/works?filter=type%3Ajournal-article%2Cissn%3A1932-6203%2Cfrom-pub-date%3A2015-01%2Cuntil-pub-date%3A2015-02&cursor=%2A&rows=500\n",
      "AoE/D2h0dHA6Ly9keC5kb2kub3JnLzEwLjEzNzEvam91cm5hbC5wb25lLjAxMTYzNDM=\n",
      "500\n",
      "http://dx.doi.org/10.1371/journal.pone.0096102\n",
      "http://api.crossref.org/works?filter=type%3Ajournal-article%2Cissn%3A1932-6203%2Cfrom-pub-date%3A2015-01%2Cuntil-pub-date%3A2015-02&cursor=AoE%2FD2h0dHA6Ly9keC5kb2kub3JnLzEwLjEzNzEvam91cm5hbC5wb25lLjAxMTYzNDM%3D&rows=500\n",
      "http://dx.doi.org/10.1371/journal.pone.0116344\n",
      "500\n",
      "http://api.crossref.org/works?filter=type%3Ajournal-article%2Cissn%3A1932-6203%2Cfrom-pub-date%3A2015-01%2Cuntil-pub-date%3A2015-02&cursor=AoE%2FD2h0dHA6Ly9keC5kb2kub3JnLzEwLjEzNzEvam91cm5hbC5wb25lLjAxMTY5OTI%3D&rows=500\n",
      "http://dx.doi.org/10.1371/journal.pone.0116993\n",
      "500\n",
      "http://api.crossref.org/works?filter=type%3Ajournal-article%2Cissn%3A1932-6203%2Cfrom-pub-date%3A2015-01%2Cuntil-pub-date%3A2015-02&cursor=AoE%2FD2h0dHA6Ly9keC5kb2kub3JnLzEwLjEzNzEvam91cm5hbC5wb25lLjAxMTc1NDg%3D&rows=500\n",
      "http://dx.doi.org/10.1371/journal.pone.0117549\n",
      "500\n",
      "http://api.crossref.org/works?filter=type%3Ajournal-article%2Cissn%3A1932-6203%2Cfrom-pub-date%3A2015-01%2Cuntil-pub-date%3A2015-02&cursor=AoE%2FD2h0dHA6Ly9keC5kb2kub3JnLzEwLjEzNzEvam91cm5hbC5wb25lLjAxMTgxMzI%3D&rows=500\n",
      "http://dx.doi.org/10.1371/journal.pone.0118134\n",
      "303\n"
     ]
    }
   ],
   "source": [
    "res = get_dois(\"type:journal-article,issn:1932-6203,from-pub-date:2015-01,until-pub-date:2015-02\")"
   ]
  },
  {
   "cell_type": "code",
   "execution_count": null,
   "metadata": {
    "collapsed": true
   },
   "outputs": [],
   "source": []
  },
  {
   "cell_type": "code",
   "execution_count": null,
   "metadata": {
    "collapsed": true
   },
   "outputs": [],
   "source": []
  },
  {
   "cell_type": "code",
   "execution_count": null,
   "metadata": {
    "collapsed": true
   },
   "outputs": [],
   "source": []
  }
 ],
 "metadata": {
  "kernelspec": {
   "display_name": "Python 3",
   "language": "python",
   "name": "python3"
  },
  "language_info": {
   "codemirror_mode": {
    "name": "ipython",
    "version": 3
   },
   "file_extension": ".py",
   "mimetype": "text/x-python",
   "name": "python",
   "nbconvert_exporter": "python",
   "pygments_lexer": "ipython3",
   "version": "3.4.4"
  }
 },
 "nbformat": 4,
 "nbformat_minor": 0
}
