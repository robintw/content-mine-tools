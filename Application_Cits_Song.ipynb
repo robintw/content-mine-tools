{
 "cells": [
  {
   "cell_type": "code",
   "execution_count": 1,
   "metadata": {
    "collapsed": false
   },
   "outputs": [],
   "source": [
    "from PyCMLib import *"
   ]
  },
  {
   "cell_type": "code",
   "execution_count": 2,
   "metadata": {
    "collapsed": false
   },
   "outputs": [],
   "source": [
    "res_title = process_all_articles('mdpi-rs/**', pf_get_citation, n_sentences=2, doi=\"\",\n",
    "                                 title=\"Classification and change detection using Landsat TM data: When and how to correct atmospheric effects?\")"
   ]
  },
  {
   "cell_type": "code",
   "execution_count": 3,
   "metadata": {
    "collapsed": false
   },
   "outputs": [
    {
     "data": {
      "text/plain": [
       "21"
      ]
     },
     "execution_count": 3,
     "metadata": {},
     "output_type": "execute_result"
    }
   ],
   "source": [
    "res_title = res_title[~res_title.match_0.isnull()]\n",
    "len(res_title)"
   ]
  },
  {
   "cell_type": "code",
   "execution_count": 4,
   "metadata": {
    "collapsed": false
   },
   "outputs": [
    {
     "data": {
      "text/html": [
       "<div>\n",
       "<table border=\"1\" class=\"dataframe\">\n",
       "  <thead>\n",
       "    <tr style=\"text-align: right;\">\n",
       "      <th></th>\n",
       "      <th>date</th>\n",
       "      <th>doi</th>\n",
       "      <th>journal</th>\n",
       "      <th>match_0</th>\n",
       "      <th>match_1</th>\n",
       "      <th>match_2</th>\n",
       "      <th>title</th>\n",
       "    </tr>\n",
       "  </thead>\n",
       "  <tbody>\n",
       "    <tr>\n",
       "      <th>360</th>\n",
       "      <td>2015-04-20</td>\n",
       "      <td>10.3390/rs70404880</td>\n",
       "      <td>Remote Sensing</td>\n",
       "      <td>This simplified dark object subtraction method...</td>\n",
       "      <td>The at-sensor radiance was converted from cali...</td>\n",
       "      <td>NaN</td>\n",
       "      <td>Assessing the Impacts of Urbanization-Associat...</td>\n",
       "    </tr>\n",
       "    <tr>\n",
       "      <th>437</th>\n",
       "      <td>2015-04-20</td>\n",
       "      <td>10.3390/rs70404834</td>\n",
       "      <td>Remote Sensing</td>\n",
       "      <td>These data are delivered with radiometric, sen...</td>\n",
       "      <td>NaN</td>\n",
       "      <td>NaN</td>\n",
       "      <td>Comparing the Dry Season In-Situ Leaf Area Ind...</td>\n",
       "    </tr>\n",
       "    <tr>\n",
       "      <th>466</th>\n",
       "      <td>2015-06-26</td>\n",
       "      <td>10.3390/rs70708368</td>\n",
       "      <td>Remote Sensing</td>\n",
       "      <td>However, when multi-temporal or multi-sensor d...</td>\n",
       "      <td>NaN</td>\n",
       "      <td>NaN</td>\n",
       "      <td>The Improvement of Land Cover Classification b...</td>\n",
       "    </tr>\n",
       "    <tr>\n",
       "      <th>517</th>\n",
       "      <td>2015-10-29</td>\n",
       "      <td>10.3390/rs71114360</td>\n",
       "      <td>Remote Sensing</td>\n",
       "      <td>Clouds are assumed to be colder than these thr...</td>\n",
       "      <td>NaN</td>\n",
       "      <td>NaN</td>\n",
       "      <td>Satellite Images for Monitoring Mangrove Cover...</td>\n",
       "    </tr>\n",
       "    <tr>\n",
       "      <th>519</th>\n",
       "      <td>2015-02-26</td>\n",
       "      <td>10.3390/rs70302283</td>\n",
       "      <td>Remote Sensing</td>\n",
       "      <td></td>\n",
       "      <td>NaN</td>\n",
       "      <td>NaN</td>\n",
       "      <td>Remote Sensing of Shrubland Drying in the Sout...</td>\n",
       "    </tr>\n",
       "    <tr>\n",
       "      <th>908</th>\n",
       "      <td>2015-08-06</td>\n",
       "      <td>10.3390/rs70810017</td>\n",
       "      <td>Remote Sensing</td>\n",
       "      <td>Digital numbers of the Landsat imagery were co...</td>\n",
       "      <td>NaN</td>\n",
       "      <td>NaN</td>\n",
       "      <td>Mapping Tree Canopy Cover and Aboveground Biom...</td>\n",
       "    </tr>\n",
       "    <tr>\n",
       "      <th>957</th>\n",
       "      <td>2012-10-19</td>\n",
       "      <td>10.3390/rs4103184</td>\n",
       "      <td>Remote Sensing</td>\n",
       "      <td>Since the predictors are only used in empirica...</td>\n",
       "      <td>NaN</td>\n",
       "      <td>NaN</td>\n",
       "      <td>Downscaling Land Surface Temperature in an Urb...</td>\n",
       "    </tr>\n",
       "    <tr>\n",
       "      <th>1002</th>\n",
       "      <td>2012-11-09</td>\n",
       "      <td>10.3390/rs4113417</td>\n",
       "      <td>Remote Sensing</td>\n",
       "      <td></td>\n",
       "      <td>NaN</td>\n",
       "      <td>NaN</td>\n",
       "      <td>Continental Scale Mapping of Tidal Flats acros...</td>\n",
       "    </tr>\n",
       "    <tr>\n",
       "      <th>1048</th>\n",
       "      <td>2012-06-29</td>\n",
       "      <td>10.3390/rs4071947</td>\n",
       "      <td>Remote Sensing</td>\n",
       "      <td>The 1-m image NAIP database was compiled at th...</td>\n",
       "      <td>NaN</td>\n",
       "      <td>NaN</td>\n",
       "      <td>Utility of Satellite and Aerial Images for Qua...</td>\n",
       "    </tr>\n",
       "    <tr>\n",
       "      <th>1158</th>\n",
       "      <td>2014-08-25</td>\n",
       "      <td>10.3390/rs6097911</td>\n",
       "      <td>Remote Sensing</td>\n",
       "      <td>ERROR: In reference list, but cannot find cita...</td>\n",
       "      <td>NaN</td>\n",
       "      <td>NaN</td>\n",
       "      <td>An Object-Based Hierarchical Method for Change...</td>\n",
       "    </tr>\n",
       "    <tr>\n",
       "      <th>1377</th>\n",
       "      <td>2014-06-12</td>\n",
       "      <td>10.3390/rs6065480</td>\n",
       "      <td>Remote Sensing</td>\n",
       "      <td>The OLI image was likewise converted to ToA re...</td>\n",
       "      <td>NaN</td>\n",
       "      <td>NaN</td>\n",
       "      <td>An Object-Based Approach for Fire History Reco...</td>\n",
       "    </tr>\n",
       "    <tr>\n",
       "      <th>1413</th>\n",
       "      <td>2014-07-22</td>\n",
       "      <td>10.3390/rs6076709</td>\n",
       "      <td>Remote Sensing</td>\n",
       "      <td>Second, because of the time differences betwee...</td>\n",
       "      <td>NaN</td>\n",
       "      <td>NaN</td>\n",
       "      <td>Predictive Mapping of Dwarf Shrub Vegetation i...</td>\n",
       "    </tr>\n",
       "    <tr>\n",
       "      <th>1525</th>\n",
       "      <td>2014-09-29</td>\n",
       "      <td>10.3390/rs6109316</td>\n",
       "      <td>Remote Sensing</td>\n",
       "      <td>NDVI was calculated as in Equation (1).</td>\n",
       "      <td>Lastly, the fourth set is composed of two cons...</td>\n",
       "      <td>NaN</td>\n",
       "      <td>Spatio-Temporal Dynamics of Land-Use and Land-...</td>\n",
       "    </tr>\n",
       "    <tr>\n",
       "      <th>1645</th>\n",
       "      <td>2014-01-24</td>\n",
       "      <td>10.3390/rs6020964</td>\n",
       "      <td>Remote Sensing</td>\n",
       "      <td>For classification on a single date image, the...</td>\n",
       "      <td>NaN</td>\n",
       "      <td>NaN</td>\n",
       "      <td>Comparison of Classification Algorithms and Tr...</td>\n",
       "    </tr>\n",
       "    <tr>\n",
       "      <th>1664</th>\n",
       "      <td>2014-08-06</td>\n",
       "      <td>10.3390/rs6087339</td>\n",
       "      <td>Remote Sensing</td>\n",
       "      <td>The image is free of clouds and of a high qual...</td>\n",
       "      <td>NaN</td>\n",
       "      <td>NaN</td>\n",
       "      <td>Urban Built-Up Area Extraction from Landsat  T...</td>\n",
       "    </tr>\n",
       "    <tr>\n",
       "      <th>1782</th>\n",
       "      <td>2013-06-13</td>\n",
       "      <td>10.3390/rs5062973</td>\n",
       "      <td>Remote Sensing</td>\n",
       "      <td>These differences originate from factors like ...</td>\n",
       "      <td>NaN</td>\n",
       "      <td>NaN</td>\n",
       "      <td>Removal of Optically Thick Clouds from Multi-S...</td>\n",
       "    </tr>\n",
       "    <tr>\n",
       "      <th>1852</th>\n",
       "      <td>2013-12-27</td>\n",
       "      <td>10.3390/rs6010285</td>\n",
       "      <td>Remote Sensing</td>\n",
       "      <td>The main idea is the linear relationship of th...</td>\n",
       "      <td>NaN</td>\n",
       "      <td>NaN</td>\n",
       "      <td>Training Area Concept in a Two-Phase Biomass I...</td>\n",
       "    </tr>\n",
       "    <tr>\n",
       "      <th>1869</th>\n",
       "      <td>2013-07-04</td>\n",
       "      <td>10.3390/rs5073212</td>\n",
       "      <td>Remote Sensing</td>\n",
       "      <td>Though multi-temporal and multi-platform data ...</td>\n",
       "      <td>NaN</td>\n",
       "      <td>NaN</td>\n",
       "      <td>Influence of Multi-Source and Multi-Temporal R...</td>\n",
       "    </tr>\n",
       "    <tr>\n",
       "      <th>1945</th>\n",
       "      <td>2013-05-30</td>\n",
       "      <td>10.3390/rs5062763</td>\n",
       "      <td>Remote Sensing</td>\n",
       "      <td>These include no-change buffer zone around a f...</td>\n",
       "      <td>The PIFs describe a high-density ridge along a...</td>\n",
       "      <td>Song et al.[ **REF**] identifies PIFs using sc...</td>\n",
       "      <td>Radiometric Normalization of Temporal Images C...</td>\n",
       "    </tr>\n",
       "    <tr>\n",
       "      <th>2139</th>\n",
       "      <td>2010-04-08</td>\n",
       "      <td>10.3390/rs2041035</td>\n",
       "      <td>Remote Sensing</td>\n",
       "      <td>Despite relatively good atmospheric conditions...</td>\n",
       "      <td>NaN</td>\n",
       "      <td>NaN</td>\n",
       "      <td>Per-Field Irrigated Crop Classification in Ari...</td>\n",
       "    </tr>\n",
       "    <tr>\n",
       "      <th>2190</th>\n",
       "      <td>2010-06-03</td>\n",
       "      <td>10.3390/rs2061508</td>\n",
       "      <td>Remote Sensing</td>\n",
       "      <td>The importance of radiometric normalization fo...</td>\n",
       "      <td>NaN</td>\n",
       "      <td>NaN</td>\n",
       "      <td>Change Detection Accuracy and Image Properties...</td>\n",
       "    </tr>\n",
       "  </tbody>\n",
       "</table>\n",
       "</div>"
      ],
      "text/plain": [
       "           date                 doi         journal  \\\n",
       "360  2015-04-20  10.3390/rs70404880  Remote Sensing   \n",
       "437  2015-04-20  10.3390/rs70404834  Remote Sensing   \n",
       "466  2015-06-26  10.3390/rs70708368  Remote Sensing   \n",
       "517  2015-10-29  10.3390/rs71114360  Remote Sensing   \n",
       "519  2015-02-26  10.3390/rs70302283  Remote Sensing   \n",
       "908  2015-08-06  10.3390/rs70810017  Remote Sensing   \n",
       "957  2012-10-19   10.3390/rs4103184  Remote Sensing   \n",
       "1002 2012-11-09   10.3390/rs4113417  Remote Sensing   \n",
       "1048 2012-06-29   10.3390/rs4071947  Remote Sensing   \n",
       "1158 2014-08-25   10.3390/rs6097911  Remote Sensing   \n",
       "1377 2014-06-12   10.3390/rs6065480  Remote Sensing   \n",
       "1413 2014-07-22   10.3390/rs6076709  Remote Sensing   \n",
       "1525 2014-09-29   10.3390/rs6109316  Remote Sensing   \n",
       "1645 2014-01-24   10.3390/rs6020964  Remote Sensing   \n",
       "1664 2014-08-06   10.3390/rs6087339  Remote Sensing   \n",
       "1782 2013-06-13   10.3390/rs5062973  Remote Sensing   \n",
       "1852 2013-12-27   10.3390/rs6010285  Remote Sensing   \n",
       "1869 2013-07-04   10.3390/rs5073212  Remote Sensing   \n",
       "1945 2013-05-30   10.3390/rs5062763  Remote Sensing   \n",
       "2139 2010-04-08   10.3390/rs2041035  Remote Sensing   \n",
       "2190 2010-06-03   10.3390/rs2061508  Remote Sensing   \n",
       "\n",
       "                                                match_0  \\\n",
       "360   This simplified dark object subtraction method...   \n",
       "437   These data are delivered with radiometric, sen...   \n",
       "466   However, when multi-temporal or multi-sensor d...   \n",
       "517   Clouds are assumed to be colder than these thr...   \n",
       "519                                                       \n",
       "908   Digital numbers of the Landsat imagery were co...   \n",
       "957   Since the predictors are only used in empirica...   \n",
       "1002                                                      \n",
       "1048  The 1-m image NAIP database was compiled at th...   \n",
       "1158  ERROR: In reference list, but cannot find cita...   \n",
       "1377  The OLI image was likewise converted to ToA re...   \n",
       "1413  Second, because of the time differences betwee...   \n",
       "1525            NDVI was calculated as in Equation (1).   \n",
       "1645  For classification on a single date image, the...   \n",
       "1664  The image is free of clouds and of a high qual...   \n",
       "1782  These differences originate from factors like ...   \n",
       "1852  The main idea is the linear relationship of th...   \n",
       "1869  Though multi-temporal and multi-platform data ...   \n",
       "1945  These include no-change buffer zone around a f...   \n",
       "2139  Despite relatively good atmospheric conditions...   \n",
       "2190  The importance of radiometric normalization fo...   \n",
       "\n",
       "                                                match_1  \\\n",
       "360   The at-sensor radiance was converted from cali...   \n",
       "437                                                 NaN   \n",
       "466                                                 NaN   \n",
       "517                                                 NaN   \n",
       "519                                                 NaN   \n",
       "908                                                 NaN   \n",
       "957                                                 NaN   \n",
       "1002                                                NaN   \n",
       "1048                                                NaN   \n",
       "1158                                                NaN   \n",
       "1377                                                NaN   \n",
       "1413                                                NaN   \n",
       "1525  Lastly, the fourth set is composed of two cons...   \n",
       "1645                                                NaN   \n",
       "1664                                                NaN   \n",
       "1782                                                NaN   \n",
       "1852                                                NaN   \n",
       "1869                                                NaN   \n",
       "1945  The PIFs describe a high-density ridge along a...   \n",
       "2139                                                NaN   \n",
       "2190                                                NaN   \n",
       "\n",
       "                                                match_2  \\\n",
       "360                                                 NaN   \n",
       "437                                                 NaN   \n",
       "466                                                 NaN   \n",
       "517                                                 NaN   \n",
       "519                                                 NaN   \n",
       "908                                                 NaN   \n",
       "957                                                 NaN   \n",
       "1002                                                NaN   \n",
       "1048                                                NaN   \n",
       "1158                                                NaN   \n",
       "1377                                                NaN   \n",
       "1413                                                NaN   \n",
       "1525                                                NaN   \n",
       "1645                                                NaN   \n",
       "1664                                                NaN   \n",
       "1782                                                NaN   \n",
       "1852                                                NaN   \n",
       "1869                                                NaN   \n",
       "1945  Song et al.[ **REF**] identifies PIFs using sc...   \n",
       "2139                                                NaN   \n",
       "2190                                                NaN   \n",
       "\n",
       "                                                  title  \n",
       "360   Assessing the Impacts of Urbanization-Associat...  \n",
       "437   Comparing the Dry Season In-Situ Leaf Area Ind...  \n",
       "466   The Improvement of Land Cover Classification b...  \n",
       "517   Satellite Images for Monitoring Mangrove Cover...  \n",
       "519   Remote Sensing of Shrubland Drying in the Sout...  \n",
       "908   Mapping Tree Canopy Cover and Aboveground Biom...  \n",
       "957   Downscaling Land Surface Temperature in an Urb...  \n",
       "1002  Continental Scale Mapping of Tidal Flats acros...  \n",
       "1048  Utility of Satellite and Aerial Images for Qua...  \n",
       "1158  An Object-Based Hierarchical Method for Change...  \n",
       "1377  An Object-Based Approach for Fire History Reco...  \n",
       "1413  Predictive Mapping of Dwarf Shrub Vegetation i...  \n",
       "1525  Spatio-Temporal Dynamics of Land-Use and Land-...  \n",
       "1645  Comparison of Classification Algorithms and Tr...  \n",
       "1664  Urban Built-Up Area Extraction from Landsat  T...  \n",
       "1782  Removal of Optically Thick Clouds from Multi-S...  \n",
       "1852  Training Area Concept in a Two-Phase Biomass I...  \n",
       "1869  Influence of Multi-Source and Multi-Temporal R...  \n",
       "1945  Radiometric Normalization of Temporal Images C...  \n",
       "2139  Per-Field Irrigated Crop Classification in Ari...  \n",
       "2190  Change Detection Accuracy and Image Properties...  "
      ]
     },
     "execution_count": 4,
     "metadata": {},
     "output_type": "execute_result"
    }
   ],
   "source": [
    "res_title"
   ]
  },
  {
   "cell_type": "code",
   "execution_count": null,
   "metadata": {
    "collapsed": false
   },
   "outputs": [],
   "source": [
    "res_title.iloc[0].match_0"
   ]
  },
  {
   "cell_type": "code",
   "execution_count": null,
   "metadata": {
    "collapsed": true
   },
   "outputs": [],
   "source": [
    "res_doi = process_all_articles('mdpi-rs/**', pf_get_citation, doi=\"10.1016/S0034-4257(00)00169-3\", title=\"\")"
   ]
  },
  {
   "cell_type": "code",
   "execution_count": null,
   "metadata": {
    "collapsed": false
   },
   "outputs": [],
   "source": [
    "res_doi = res_doi[~res_doi.match_0.isnull()]\n",
    "len(res_doi)"
   ]
  },
  {
   "cell_type": "code",
   "execution_count": null,
   "metadata": {
    "collapsed": false
   },
   "outputs": [],
   "source": [
    "merged = pd.concat([res_doi, res_title]).drop_duplicates(subset=['title', 'doi', 'journal'])"
   ]
  },
  {
   "cell_type": "code",
   "execution_count": null,
   "metadata": {
    "collapsed": false
   },
   "outputs": [],
   "source": [
    "len(merged)"
   ]
  },
  {
   "cell_type": "code",
   "execution_count": null,
   "metadata": {
    "collapsed": false
   },
   "outputs": [],
   "source": [
    "res_title.sort_values('title')"
   ]
  },
  {
   "cell_type": "code",
   "execution_count": null,
   "metadata": {
    "collapsed": false
   },
   "outputs": [],
   "source": [
    "merged.sort_values('title')"
   ]
  },
  {
   "cell_type": "code",
   "execution_count": null,
   "metadata": {
    "collapsed": true
   },
   "outputs": [],
   "source": []
  },
  {
   "cell_type": "code",
   "execution_count": null,
   "metadata": {
    "collapsed": true
   },
   "outputs": [],
   "source": []
  },
  {
   "cell_type": "code",
   "execution_count": null,
   "metadata": {
    "collapsed": true
   },
   "outputs": [],
   "source": []
  },
  {
   "cell_type": "code",
   "execution_count": null,
   "metadata": {
    "collapsed": false
   },
   "outputs": [],
   "source": [
    "merged.sort_values('title')"
   ]
  },
  {
   "cell_type": "code",
   "execution_count": 5,
   "metadata": {
    "collapsed": false
   },
   "outputs": [
    {
     "name": "stdout",
     "output_type": "stream",
     "text": [
      "Assessing the Impacts of Urbanization-Associated Land Use/Cover Change on Land Surface Temperature and Surface Moisture: A Case Study in the Midwestern United States\n",
      "--------------------------------------------------------------------------------\n",
      "This simplified dark object subtraction method assumed no atmospheric transmittance loss and no diffuse downward radiation at the surface.\n",
      "\n",
      "\n",
      "\n",
      "Comparing the Dry Season In-Situ Leaf Area Index (LAI) Derived from High-Resolution RapidEye Imagery with MODIS LAI in a Namibian Savanna\n",
      "--------------------------------------------------------------------------------\n",
      "These data are delivered with radiometric, sensor, and geometric corrections already applied and assigned to UTM projection (Zone 33S) with WGS 84 datum. No post hoc atmospheric correction was performed, because it is not improving results for single date images [ **REF**].\n",
      "\n",
      "\n",
      "\n",
      "The Improvement of Land Cover Classification by Thermal Remote Sensing\n",
      "--------------------------------------------------------------------------------\n",
      "However, when multi-temporal or multi-sensor data are used, atmospheric correction is mandatory [ 49]. Existing studies have tested the importance of different procedures for obtaining the stable and accurate images [ 50].\n",
      "\n",
      "\n",
      "\n",
      "Satellite Images for Monitoring Mangrove Cover Changes  in a Fast Growing Economic Region in Southern  Peninsular Malaysia\n",
      "--------------------------------------------------------------------------------\n",
      "Clouds are assumed to be colder than these thresholds [ 35]. We did not perform atmospheric correction because the images were not too hazy and the training data is from the image to be classified [ **REF**].\n",
      "\n",
      "\n",
      "\n",
      "Remote Sensing of Shrubland Drying in the South-East Mediterranean, 1995–2010: Water-Use-Efficiency-Based Mapping of Biomass Change\n",
      "--------------------------------------------------------------------------------\n",
      "\n",
      "\n",
      "\n",
      "\n",
      "Mapping Tree Canopy Cover and Aboveground Biomass  in Sudano-Sahelian Woodlands Using Landsat 8 and  Random Forest\n",
      "--------------------------------------------------------------------------------\n",
      "Digital numbers of the Landsat imagery were converted to top-of-atmosphere reflectance according to the instructions provided by USGS [ 71]. Atmospheric correction was not conducted since the dry season time series used to derive the phenology were treated as multi-date composite imagery [ 37, **REF**].\n",
      "\n",
      "\n",
      "\n",
      "Downscaling Land Surface Temperature in an Urban Area: A Case Study for Hamburg, Germany\n",
      "--------------------------------------------------------------------------------\n",
      "Since the predictors are only used in empirical models, calibration, atmospheric correction and conversion to reflectance were not considered necessary [ **REF**] and the raw digital numbers were applied. Bands 3 (RED) and 4 (NIR) were used to calculate the Normalized Differenced Vegetation Index (NDVI). The thermal infrared (TIR) acquisitions from multitemporal TM and ETM+ data (TIR band: 10.4–12.5 μm) were also included as predictors and several aggregated parameters were calculated.\n",
      "\n",
      "\n",
      "\n",
      "Continental Scale Mapping of Tidal Flats across East Asia Using the Landsat Archive\n",
      "--------------------------------------------------------------------------------\n",
      "\n",
      "\n",
      "\n",
      "\n",
      "Utility of Satellite and Aerial Images for Quantification of Canopy Cover and Infilling Rates of the Invasive Woody Species Honey Mesquite (Prosopis Glandulosa) on Rangeland\n",
      "--------------------------------------------------------------------------------\n",
      "The 1-m image NAIP database was compiled at the county level, whereas the 30-m image extended over multiple counties in north Texas. Image to image warping using easily identifiable landmarks such as road corners and intersections, buildings, and water tanks in both the 1-m and 30-m images resulted in accurate alignment of the two images Atmospheric correction was not applied to the 30-m image because in many applications involving classification and change detection, atmospheric correction is unnecessary as long as the imagery to be classified and the training data are in the same relative scale [ **REF**].\n",
      "\n",
      "\n",
      "\n",
      "An Object-Based Hierarchical Method for Change Detection Using Unmanned Aerial Vehicle Images\n",
      "--------------------------------------------------------------------------------\n",
      "ERROR: In reference list, but cannot find citation. Check manually.\n",
      "\n",
      "\n",
      "\n",
      "An Object-Based Approach for Fire History Reconstruction by Using Three Generations of Landsat Sensors\n",
      "--------------------------------------------------------------------------------\n",
      "The OLI image was likewise converted to ToA reflectance following the procedure described in the USGS Landsat mission website ( https://landsat.usgs.gov/Landsat8_Using_Product.php). Moreover, the images were corrected for atmospheric effects by applying the Dark Object Subtraction (DOS) technique, which is one of the most-widely used, and simplest, absolute atmospheric correction approaches [ 49, **REF**].\n",
      "\n",
      "\n",
      "\n",
      "Predictive Mapping of Dwarf Shrub Vegetation in an Arid High Mountain Ecosystem Using Remote Sensing and Random Forests\n",
      "--------------------------------------------------------------------------------\n",
      "Second, because of the time differences between the tiles, these values were calibrated to one another for each band to exclude atmospheric differences, using linear regressions based on the values from intersections of multiple tiles. According to Song et al. [ **REF**], no further atmospheric correction was performed. Third, the calibrated tiles were mosaicked and used to produce a raster of Qi et al.’s [ 32] MSAVI2 index, which is a spectral vegetation index that was invented especially to cope with soil noise. Furthermore, 6 rasters of texture parameters ( Table 1) that were calculated by applying a range filter of 3 × 3 pixels to the rasters of the spectral bands and the MSAVI2 were calculated.\n",
      "\n",
      "\n",
      "\n",
      "Spatio-Temporal Dynamics of Land-Use and Land-Cover in the Mu Us Sandy Land, China, Using the Change Vector Analysis Technique\n",
      "--------------------------------------------------------------------------------\n",
      "NDVI was calculated as in Equation (1).\n",
      "\n",
      "\n",
      "\n",
      "Comparison of Classification Algorithms and Training Sample Sizes in Urban Land Classification with Landsat Thematic Mapper Imagery\n",
      "--------------------------------------------------------------------------------\n",
      "For classification on a single date image, there is no need to do atmospheric correction if the sky is clear, which is the case in this study [ 7, **REF**]. Geometric correction was applied to the raw imagery by co-registering this image with a previously georeferenced TM image acquired in 2005. A total of 153 ground control points were selected from the image.\n",
      "\n",
      "\n",
      "\n",
      "Urban Built-Up Area Extraction from Landsat  TM/ETM+ Images Using Spectral Information  and Multivariate Texture\n",
      "--------------------------------------------------------------------------------\n",
      "The image is free of clouds and of a high quality. No radiometric correction was conducted, since land cover classification does not gain from radiometric correction [ **REF**]. Bi-temporal images were co-registered. The image size finally used in the study is 1600 × 1860 pixels, covering an area of approximately 48 km × 55.8 km ( Figure 2).\n",
      "\n",
      "\n",
      "\n",
      "Removal of Optically Thick Clouds from Multi-Spectral Satellite Images Using Multi-Frequency SAR Data\n",
      "--------------------------------------------------------------------------------\n",
      "These differences originate from factors like atmospheric conditions, sun-target-sensor geometry, sensor calibration, soil moisture or vegetation phenology [ 4]. The signal attenuation due to atmospheric distortions has to be corrected image-wise to consider the specific conditions during image acquisition [ 9, **REF**]. In order to account for the sun-target-sensor geometry, topographic normalization can be applied to reduce spectral reflectance differences that occur due to the influence of terrain slope and aspect [ 11]. Although the reflectances of the images contributing to the cloud-free mosaic were corrected in two ways, the occurrence of different reflectances is still possible.\n",
      "\n",
      "\n",
      "\n",
      "Training Area Concept in a Two-Phase Biomass Inventory Using Airborne Laser Scanning and RapidEye Satellite Data\n",
      "--------------------------------------------------------------------------------\n",
      "The main idea is the linear relationship of the digital numbers (DNs) over pseudo-invariant features (PIFs) across these two images [ 39, 40]. We made five feature space (for five RapidEye bands) images within these two images in the overlapping area.\n",
      "\n",
      "\n",
      "\n",
      "Influence of Multi-Source and Multi-Temporal Remotely Sensed and Ancillary Data on the Accuracy of Random Forest Classification of Wetlands in Northern Minnesota\n",
      "--------------------------------------------------------------------------------\n",
      "Though multi-temporal and multi-platform data were used, the acquired satellite data were not atmospherically corrected and the data remained in digital number format.\n",
      "\n",
      "\n",
      "\n",
      "Radiometric Normalization of Temporal Images Combining Automatic Detection of Pseudo-Invariant Features from the Distance and Similarity Spectral Measures, Density Scatterplot Analysis, and Robust Regression\n",
      "--------------------------------------------------------------------------------\n",
      "These include no-change buffer zone around a fitted line from linear regression [ 16] or principal components [ 2, 3, 17]; robust-regression [ 18, 19]; scatter-plot density [ **REF**– 22].\n",
      "\n",
      "\n",
      "\n",
      "Per-Field Irrigated Crop Classification in Arid Central Asia Using SPOT and ASTER Data\n",
      "--------------------------------------------------------------------------------\n",
      "Despite relatively good atmospheric conditions, the ASTER imagery was atmospherically corrected to be able to apply one rule set to both images [ **REF**]. ATCOR 6.4 [ 30] was used for correction. The aerosol type was set to ‘dry rural’ and the calibration coefficients for ASTER were selected according to [ 31].\n",
      "\n",
      "\n",
      "\n",
      "Change Detection Accuracy and Image Properties: A Study Using Simulated Data\n",
      "--------------------------------------------------------------------------------\n",
      "The importance of radiometric normalization for accurate change detection has been discussed extensively in previous studies [ 3, **REF**, 5].\n",
      "\n",
      "\n",
      "\n"
     ]
    }
   ],
   "source": [
    "for i,s in res_title.dropna(how='all', subset=['match_0', 'match_1']).iterrows():\n",
    "    print(s['title'])\n",
    "    print(\"-\" * 80)\n",
    "    print(s['match_0'])\n",
    "    print('\\n\\n')"
   ]
  },
  {
   "cell_type": "code",
   "execution_count": null,
   "metadata": {
    "collapsed": false
   },
   "outputs": [],
   "source": [
    "for i,s in res.dropna(how='all', subset=['match_0', 'match_1']).iterrows():\n",
    "    print(s['title'])\n",
    "    print(\"-\" * 80)\n",
    "    print(s['match_0'])\n",
    "    print('\\n\\n')"
   ]
  },
  {
   "cell_type": "code",
   "execution_count": null,
   "metadata": {
    "collapsed": false
   },
   "outputs": [],
   "source": [
    "get_all_uses_of_citation(\"mdpi-rs/mdpi-rs-2014/http_dx.doi.org_10.3390_rs6097911/scholarly.html\", doi=\"\",\n",
    "    title=\"Classification and change detection using Landsat TM data: When and how to correct atmospheric effects?\")"
   ]
  },
  {
   "cell_type": "code",
   "execution_count": null,
   "metadata": {
    "collapsed": true
   },
   "outputs": [],
   "source": [
    "#doi=\"10.1109/MCSE.2011.37\""
   ]
  },
  {
   "cell_type": "code",
   "execution_count": null,
   "metadata": {
    "collapsed": true
   },
   "outputs": [],
   "source": [
    "res = process_all_articles('mdpi-rs/**', pf_get_citation, title=\"The NumPy Array: A Structure for Efficient Numerical Computation\")"
   ]
  },
  {
   "cell_type": "code",
   "execution_count": null,
   "metadata": {
    "collapsed": true
   },
   "outputs": [],
   "source": [
    "len(res)"
   ]
  },
  {
   "cell_type": "code",
   "execution_count": null,
   "metadata": {
    "collapsed": true
   },
   "outputs": [],
   "source": [
    "regex_res = process_all_articles('mdpi-rs/**', pf_count_regex, regexes=[('numpy')])"
   ]
  },
  {
   "cell_type": "code",
   "execution_count": null,
   "metadata": {
    "collapsed": false
   },
   "outputs": [],
   "source": [
    "regex_res[regex_res.numpy > 0]"
   ]
  },
  {
   "cell_type": "code",
   "execution_count": null,
   "metadata": {
    "collapsed": true
   },
   "outputs": [],
   "source": []
  }
 ],
 "metadata": {
  "kernelspec": {
   "display_name": "Python 3",
   "language": "python",
   "name": "python3"
  },
  "language_info": {
   "codemirror_mode": {
    "name": "ipython",
    "version": 3
   },
   "file_extension": ".py",
   "mimetype": "text/x-python",
   "name": "python",
   "nbconvert_exporter": "python",
   "pygments_lexer": "ipython3",
   "version": "3.5.1"
  }
 },
 "nbformat": 4,
 "nbformat_minor": 0
}
