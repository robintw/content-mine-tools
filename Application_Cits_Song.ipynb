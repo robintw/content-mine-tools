{
 "cells": [
  {
   "cell_type": "code",
   "execution_count": 8,
   "metadata": {
    "collapsed": true
   },
   "outputs": [],
   "source": [
    "import pandas as pd"
   ]
  },
  {
   "cell_type": "code",
   "execution_count": 1,
   "metadata": {
    "collapsed": false
   },
   "outputs": [],
   "source": [
    "from PyCMLib import *"
   ]
  },
  {
   "cell_type": "code",
   "execution_count": 2,
   "metadata": {
    "collapsed": true
   },
   "outputs": [],
   "source": [
    "doi = \"10.1016/S0034-4257(00)00169-3\"\n",
    "title = \"Classification and change detection using Landsat TM data: When and how to correct atmospheric effects?\""
   ]
  },
  {
   "cell_type": "code",
   "execution_count": null,
   "metadata": {
    "collapsed": true
   },
   "outputs": [],
   "source": []
  },
  {
   "cell_type": "code",
   "execution_count": 3,
   "metadata": {
    "collapsed": false
   },
   "outputs": [],
   "source": [
    "res_title = process_all_articles('mdpi-only/**', pf_get_citation, n_sentences=2, doi=\"\", title=title)"
   ]
  },
  {
   "cell_type": "code",
   "execution_count": 4,
   "metadata": {
    "collapsed": false
   },
   "outputs": [
    {
     "data": {
      "text/plain": [
       "21"
      ]
     },
     "execution_count": 4,
     "metadata": {},
     "output_type": "execute_result"
    }
   ],
   "source": [
    "res_title = res_title[~res_title.match_0.isnull()]\n",
    "len(res_title)"
   ]
  },
  {
   "cell_type": "code",
   "execution_count": 5,
   "metadata": {
    "collapsed": true
   },
   "outputs": [],
   "source": [
    "res_doi = process_all_articles('mdpi-only/**', pf_get_citation, n_sentences=2, doi=doi, title=\"\")"
   ]
  },
  {
   "cell_type": "code",
   "execution_count": 6,
   "metadata": {
    "collapsed": false
   },
   "outputs": [
    {
     "data": {
      "text/plain": [
       "9"
      ]
     },
     "execution_count": 6,
     "metadata": {},
     "output_type": "execute_result"
    }
   ],
   "source": [
    "res_doi = res_doi[~res_doi.match_0.isnull()]\n",
    "len(res_doi)"
   ]
  },
  {
   "cell_type": "code",
   "execution_count": 9,
   "metadata": {
    "collapsed": false
   },
   "outputs": [],
   "source": [
    "merged = pd.concat([res_doi, res_title]).drop_duplicates(subset=['title', 'doi', 'journal'])"
   ]
  },
  {
   "cell_type": "code",
   "execution_count": 10,
   "metadata": {
    "collapsed": false
   },
   "outputs": [
    {
     "data": {
      "text/plain": [
       "22"
      ]
     },
     "execution_count": 10,
     "metadata": {},
     "output_type": "execute_result"
    }
   ],
   "source": [
    "len(merged)"
   ]
  },
  {
   "cell_type": "code",
   "execution_count": 12,
   "metadata": {
    "collapsed": false
   },
   "outputs": [
    {
     "name": "stdout",
     "output_type": "stream",
     "text": [
      "A Highly Accurate Classification of TM Data through Correction of Atmospheric Effects\n",
      "--------------------------------------------------------------------------------\n",
      "In certain circumstances, radiance calibration of the image data is necessary prior to classification using multitemporal images [ 2]. The atmospheric effect can prevent the proper interpretation of images if it is not corrected [ 3]. For many other applications involving image classification and change detection, atmospheric correction is unnecessary for a single date image [ **REF**]. As long as the training data and images to be classified are on the same relative scale, atmospheric correction has little effect on classification accuracy [ 5, 6, 7]. Past investigators have used relative atmospheric correction techniques, which proceed on the assumption that a linear relationship exists between the measurements from a targeted area over time.\n",
      "\n",
      "\n",
      "\n",
      "Per-Field Irrigated Crop Classification in Arid Central Asia Using SPOT and ASTER Data\n",
      "--------------------------------------------------------------------------------\n",
      "Despite relatively good atmospheric conditions, the ASTER imagery was atmospherically corrected to be able to apply one rule set to both images [ **REF**]. ATCOR 6.4 [ 30] was used for correction. The aerosol type was set to ‘dry rural’ and the calibration coefficients for ASTER were selected according to [ 31].\n",
      "\n",
      "\n",
      "\n",
      "Change Detection Accuracy and Image Properties: A Study Using Simulated Data\n",
      "--------------------------------------------------------------------------------\n",
      "The importance of radiometric normalization for accurate change detection has been discussed extensively in previous studies [ 3, **REF**, 5].\n",
      "\n",
      "\n",
      "\n",
      "Remote Sensing of Shrubland Drying in the South-East Mediterranean, 1995–2010: Water-Use-Efficiency-Based Mapping of Biomass Change\n",
      "--------------------------------------------------------------------------------\n",
      "The images were geometrically corrected using ground control points, and bands 1–4 were atmospherically corrected based on the Dark Object Subtraction method [ **REF**].\n",
      "\n",
      "\n",
      "\n",
      "Comparing the Dry Season In-Situ Leaf Area Index (LAI) Derived from High-Resolution RapidEye Imagery with MODIS LAI in a Namibian Savanna\n",
      "--------------------------------------------------------------------------------\n",
      "A set of “RapidEye Ortho-Level 3A” scenes, acquired on 10 November 2010, was used in this study. These data are delivered with radiometric, sensor, and geometric corrections already applied and assigned to UTM projection (Zone 33S) with WGS 84 datum. No post hoc atmospheric correction was performed, because it is not improving results for single date images [ **REF**].\n",
      "\n",
      "\n",
      "\n",
      "Assessing the Impacts of Urbanization-Associated Land Use/Cover Change on Land Surface Temperature and Surface Moisture: A Case Study in the Midwestern United States\n",
      "--------------------------------------------------------------------------------\n",
      "The method for atmospheric correction for bands 1-5 and 7 was adopted from Song et al. [ **REF**]. This simplified dark object subtraction method assumed no atmospheric transmittance loss and no diffuse downward radiation at the surface.\n",
      "\n",
      "\n",
      "\n",
      "The Improvement of Land Cover Classification by Thermal Remote Sensing\n",
      "--------------------------------------------------------------------------------\n",
      "As reported by Song et al. [ **REF**], atmospheric correction of images might not be necessary in case only a single image is used for the classification procedure. However, when multi-temporal or multi-sensor data are used, atmospheric correction is mandatory [ 49]. Existing studies have tested the importance of different procedures for obtaining the stable and accurate images [ 50].\n",
      "\n",
      "\n",
      "\n",
      "Mapping Tree Canopy Cover and Aboveground Biomass  in Sudano-Sahelian Woodlands Using Landsat 8 and  Random Forest\n",
      "--------------------------------------------------------------------------------\n",
      "Specifically, large trees, which are clearly visible in Landsat’s 15 m panchromatic band, served as ground control points and their accuracy was checked against the geo-referenced WorldView-2 image. Digital numbers of the Landsat imagery were converted to top-of-atmosphere reflectance according to the instructions provided by USGS [ 71]. Atmospheric correction was not conducted since the dry season time series used to derive the phenology were treated as multi-date composite imagery [ 37, **REF**].\n",
      "\n",
      "\n",
      "\n",
      "Satellite Images for Monitoring Mangrove Cover Changes  in a Fast Growing Economic Region in Southern  Peninsular Malaysia\n",
      "--------------------------------------------------------------------------------\n",
      "We calculated and examined the brightness temperature [ 34] of clouds in each image and masked them out by using the thresholds as shown in Table 1. Clouds are assumed to be colder than these thresholds [ 35]. We did not perform atmospheric correction because the images were not too hazy and the training data is from the image to be classified [ **REF**].\n",
      "\n",
      "\n",
      "\n",
      "Utility of Satellite and Aerial Images for Quantification of Canopy Cover and Infilling Rates of the Invasive Woody Species Honey Mesquite (Prosopis Glandulosa) on Rangeland\n",
      "--------------------------------------------------------------------------------\n",
      "The 30-m image projection was converted to the Universal Transverse Mercator North American Datum 1983 Zone 14 North using image warping in Environment for Visualizing Images (ENVI) software (Exelis Visual Information Solutions, Boulder, CO, USA). The 1-m image NAIP database was compiled at the county level, whereas the 30-m image extended over multiple counties in north Texas. Image to image warping using easily identifiable landmarks such as road corners and intersections, buildings, and water tanks in both the 1-m and 30-m images resulted in accurate alignment of the two images Atmospheric correction was not applied to the 30-m image because in many applications involving classification and change detection, atmospheric correction is unnecessary as long as the imagery to be classified and the training data are in the same relative scale [ **REF**].\n",
      "\n",
      "\n",
      "\n",
      "Downscaling Land Surface Temperature in an Urban Area: A Case Study for Hamburg, Germany\n",
      "--------------------------------------------------------------------------------\n",
      "Since the predictors are only used in empirical models, calibration, atmospheric correction and conversion to reflectance were not considered necessary [ **REF**] and the raw digital numbers were applied. Bands 3 (RED) and 4 (NIR) were used to calculate the Normalized Differenced Vegetation Index (NDVI). The thermal infrared (TIR) acquisitions from multitemporal TM and ETM+ data (TIR band: 10.4–12.5 μm) were also included as predictors and several aggregated parameters were calculated.\n",
      "\n",
      "\n",
      "\n",
      "Continental Scale Mapping of Tidal Flats across East Asia Using the Landsat Archive\n",
      "--------------------------------------------------------------------------------\n",
      "The final image set was pre-processed to at-surface reflectance by converting digital number values to at-sensor reflectance and then applying a dark pixel subtraction to account for atmospheric attenuation [ 19– **REF**].\n",
      "\n",
      "\n",
      "\n",
      "Radiometric Normalization of Temporal Images Combining Automatic Detection of Pseudo-Invariant Features from the Distance and Similarity Spectral Measures, Density Scatterplot Analysis, and Robust Regression\n",
      "--------------------------------------------------------------------------------\n",
      "These include no-change buffer zone around a fitted line from linear regression [ 16] or principal components [ 2, 3, 17]; robust-regression [ 18, 19]; scatter-plot density [ **REF**– 22].\n",
      "\n",
      "\n",
      "\n",
      "Removal of Optically Thick Clouds from Multi-Spectral Satellite Images Using Multi-Frequency SAR Data\n",
      "--------------------------------------------------------------------------------\n",
      "Because of significant differences between the DN of a pixel between two image acquisitions, some calibrations and corrections are mandatory for cloud substitution. These differences originate from factors like atmospheric conditions, sun-target-sensor geometry, sensor calibration, soil moisture or vegetation phenology [ 4]. The signal attenuation due to atmospheric distortions has to be corrected image-wise to consider the specific conditions during image acquisition [ 9, **REF**]. In order to account for the sun-target-sensor geometry, topographic normalization can be applied to reduce spectral reflectance differences that occur due to the influence of terrain slope and aspect [ 11]. Although the reflectances of the images contributing to the cloud-free mosaic were corrected in two ways, the occurrence of different reflectances is still possible.\n",
      "\n",
      "\n",
      "\n",
      "Influence of Multi-Source and Multi-Temporal Remotely Sensed and Ancillary Data on the Accuracy of Random Forest Classification of Wetlands in Northern Minnesota\n",
      "--------------------------------------------------------------------------------\n",
      "Though multi-temporal and multi-platform data were used, the acquired satellite data were not atmospherically corrected and the data remained in digital number format. All of the input data were integrated into a single dataset, from which the training data were derived to classify land cover as a single snapshot [ **REF**].\n",
      "\n",
      "\n",
      "\n",
      "Training Area Concept in a Two-Phase Biomass Inventory Using Airborne Laser Scanning and RapidEye Satellite Data\n",
      "--------------------------------------------------------------------------------\n",
      "Before using the RapidEye images in the final calculation, the necessity of radiometric correction was examined according to the Ridge method [ **REF**]. The main idea is the linear relationship of the digital numbers (DNs) over pseudo-invariant features (PIFs) across these two images [ 39, 40]. We made five feature space (for five RapidEye bands) images within these two images in the overlapping area.\n",
      "\n",
      "\n",
      "\n",
      "Comparison of Classification Algorithms and Training Sample Sizes in Urban Land Classification with Landsat Thematic Mapper Imagery\n",
      "--------------------------------------------------------------------------------\n",
      "For classification on a single date image, there is no need to do atmospheric correction if the sky is clear, which is the case in this study [ 7, **REF**]. Geometric correction was applied to the raw imagery by co-registering this image with a previously georeferenced TM image acquired in 2005. A total of 153 ground control points were selected from the image.\n",
      "\n",
      "\n",
      "\n",
      "An Object-Based Approach for Fire History Reconstruction by Using Three Generations of Landsat Sensors\n",
      "--------------------------------------------------------------------------------\n",
      "The OLI image was likewise converted to ToA reflectance following the procedure described in the USGS Landsat mission website ( https://landsat.usgs.gov/Landsat8_Using_Product.php). Moreover, the images were corrected for atmospheric effects by applying the Dark Object Subtraction (DOS) technique, which is one of the most-widely used, and simplest, absolute atmospheric correction approaches [ 49, **REF**].\n",
      "\n",
      "\n",
      "\n",
      "Predictive Mapping of Dwarf Shrub Vegetation in an Arid High Mountain Ecosystem Using Remote Sensing and Random Forests\n",
      "--------------------------------------------------------------------------------\n",
      "First, the reflectances were calculated from the digital numbers (namely the pixel gray-level values) of the different tiles and bands. Second, because of the time differences between the tiles, these values were calibrated to one another for each band to exclude atmospheric differences, using linear regressions based on the values from intersections of multiple tiles. According to Song et al. [ **REF**], no further atmospheric correction was performed. Third, the calibrated tiles were mosaicked and used to produce a raster of Qi et al.’s [ 32] MSAVI2 index, which is a spectral vegetation index that was invented especially to cope with soil noise. Furthermore, 6 rasters of texture parameters ( Table 1) that were calculated by applying a range filter of 3 × 3 pixels to the rasters of the spectral bands and the MSAVI2 were calculated.\n",
      "\n",
      "\n",
      "\n",
      "Urban Built-Up Area Extraction from Landsat  TM/ETM+ Images Using Spectral Information  and Multivariate Texture\n",
      "--------------------------------------------------------------------------------\n",
      "Only six reflective multispectral bands (Bands 1–5, 7) with 30-m spatial resolution were used for each image. The image is free of clouds and of a high quality. No radiometric correction was conducted, since land cover classification does not gain from radiometric correction [ **REF**]. Bi-temporal images were co-registered. The image size finally used in the study is 1600 × 1860 pixels, covering an area of approximately 48 km × 55.8 km ( Figure 2).\n",
      "\n",
      "\n",
      "\n",
      "An Object-Based Hierarchical Method for Change Detection Using Unmanned Aerial Vehicle Images\n",
      "--------------------------------------------------------------------------------\n",
      "ERROR: In reference list, but cannot find citation. Check manually.\n",
      "\n",
      "\n",
      "\n",
      "Spatio-Temporal Dynamics of Land-Use and Land-Cover in the Mu Us Sandy Land, China, Using the Change Vector Analysis Technique\n",
      "--------------------------------------------------------------------------------\n",
      "Pre-processing of each raw image included one-step radiometric and atmospheric corrections using the dark-object subtraction method [ 48, **REF**] and the latest radiometric calibration coefficients published [ 50]. NDVI was calculated as in Equation (1).\n",
      "\n",
      "\n",
      "\n"
     ]
    }
   ],
   "source": [
    "for i,s in merged.dropna(how='all', subset=['match_0', 'match_1']).iterrows():\n",
    "    print(s['title'])\n",
    "    print(\"-\" * 80)\n",
    "    print(s['match_0'])\n",
    "    print('\\n\\n')"
   ]
  },
  {
   "cell_type": "code",
   "execution_count": null,
   "metadata": {
    "collapsed": true
   },
   "outputs": [],
   "source": [
    "res = process_all_articles('mdpi-rs/**', pf_get_citation, title=\"The NumPy Array: A Structure for Efficient Numerical Computation\")"
   ]
  },
  {
   "cell_type": "code",
   "execution_count": null,
   "metadata": {
    "collapsed": true
   },
   "outputs": [],
   "source": [
    "len(res)"
   ]
  },
  {
   "cell_type": "code",
   "execution_count": null,
   "metadata": {
    "collapsed": true
   },
   "outputs": [],
   "source": [
    "regex_res = process_all_articles('mdpi-rs/**', pf_count_regex, regexes=[('numpy')])"
   ]
  },
  {
   "cell_type": "code",
   "execution_count": null,
   "metadata": {
    "collapsed": false
   },
   "outputs": [],
   "source": [
    "regex_res[regex_res.numpy > 0]"
   ]
  }
 ],
 "metadata": {
  "kernelspec": {
   "display_name": "Python 3",
   "language": "python",
   "name": "python3"
  },
  "language_info": {
   "codemirror_mode": {
    "name": "ipython",
    "version": 3
   },
   "file_extension": ".py",
   "mimetype": "text/x-python",
   "name": "python",
   "nbconvert_exporter": "python",
   "pygments_lexer": "ipython3",
   "version": "3.4.4"
  }
 },
 "nbformat": 4,
 "nbformat_minor": 0
}
