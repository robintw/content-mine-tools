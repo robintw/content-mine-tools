{
 "cells": [
  {
   "cell_type": "code",
   "execution_count": 64,
   "metadata": {
    "collapsed": true
   },
   "outputs": [],
   "source": [
    "import os\n",
    "from glob import glob\n",
    "import pandas as pd\n",
    "import json\n",
    "import re\n",
    "from pathlib import Path"
   ]
  },
  {
   "cell_type": "markdown",
   "metadata": {},
   "source": [
    "General data structure plan here is to create a dict for each paper, each key of which contains some sort of information about the paper. So, we have the standard metadata (DOI, date, title etc), and also possibly counts of certain regex matches, with keys for the regexes (or nicer names)."
   ]
  },
  {
   "cell_type": "markdown",
   "metadata": {},
   "source": [
    "I'm not sure how to approach it when we need to store information about each individual match..."
   ]
  },
  {
   "cell_type": "code",
   "execution_count": 33,
   "metadata": {
    "collapsed": true
   },
   "outputs": [],
   "source": [
    "def get_article_metadata(folder_path):\n",
    "    json_filename = str(folder_path / 'results.json')\n",
    "    \n",
    "    with open(json_filename) as f:\n",
    "        j = json.load(f)\n",
    "        \n",
    "    selected_keys = ['doi', 'title', 'date', 'journal']\n",
    "        \n",
    "    filtered_dict = { k: j[k]['value'][0] for k in selected_keys }\n",
    "    \n",
    "    return filtered_dict"
   ]
  },
  {
   "cell_type": "code",
   "execution_count": 72,
   "metadata": {
    "collapsed": true
   },
   "outputs": [],
   "source": [
    "def count_regex_matches(pattern, fname, flags=0):\n",
    "    with open(fname) as f:\n",
    "        text = f.read()\n",
    "        #print(text)\n",
    "        \n",
    "        count = len(re.findall(pattern, text, flags=flags))\n",
    "        \n",
    "    return count"
   ]
  },
  {
   "cell_type": "code",
   "execution_count": 100,
   "metadata": {
    "collapsed": false
   },
   "outputs": [],
   "source": [
    "def count_multiple_regexes(regexes, fname, flags=0):\n",
    "    res = {}\n",
    "    \n",
    "    for item in regexes:\n",
    "        try:\n",
    "            regex, name = item\n",
    "        except (TypeError, ValueError):\n",
    "            regex = item\n",
    "            name = item\n",
    "        res[name] = count_regex_matches(regex, fname, flags=0)\n",
    "        \n",
    "    return res"
   ]
  },
  {
   "cell_type": "code",
   "execution_count": 109,
   "metadata": {
    "collapsed": true
   },
   "outputs": [],
   "source": [
    "def process_article(folder):\n",
    "    # If not a valid CM folder then return\n",
    "    if not (folder / 'results.json').exists():\n",
    "        return None\n",
    "    \n",
    "    # Get the metadata first\n",
    "    results = get_article_metadata(folder)\n",
    "    \n",
    "    # Now we can actually do the processing!\n",
    "    \n",
    "    # As an example we will do a simple regex and count the results\n",
    "    # This works for a single regex\n",
    "    #results['Landsat'] = count_regex_matches('landsat', str(folder / 'fulltext.xml'))\n",
    "    \n",
    "    # To do multiple regexes nice and easily we can do the following\n",
    "    \n",
    "    # Set up a list of regexes (and optional nice names for them)\n",
    "    regexes = [('FLAASH'),\n",
    "               ('ATCOR'),\n",
    "               ('SMAC'),\n",
    "               ('6S', '6S'),\n",
    "               ('empirical line'),\n",
    "               ('\\bELM\\b')]\n",
    "    \n",
    "    regex_stats = count_multiple_regexes(regexes, str(folder / 'fulltext.xml'), flags=re.IGNORECASE)\n",
    "    \n",
    "    results.update(regex_stats)\n",
    "    \n",
    "    \n",
    "    \n",
    "    return results"
   ]
  },
  {
   "cell_type": "code",
   "execution_count": 119,
   "metadata": {
    "collapsed": false
   },
   "outputs": [],
   "source": [
    "p = Path()\n",
    "folders = p.glob('mdpi-rs/**/')\n",
    "\n",
    "results = [process_article(folder) for folder in folders]\n",
    "\n",
    "# Filter out the None's...there must be a better way to do this!\n",
    "results = filter(None, results)\n",
    "results = pd.DataFrame(list(results))\n",
    "results.date = pd.to_datetime(results.date)"
   ]
  },
  {
   "cell_type": "code",
   "execution_count": 127,
   "metadata": {
    "collapsed": false
   },
   "outputs": [],
   "source": [
    "results['month'] = pd.DatetimeIndex(results.date).month"
   ]
  },
  {
   "cell_type": "code",
   "execution_count": 133,
   "metadata": {
    "collapsed": false
   },
   "outputs": [
    {
     "data": {
      "text/html": [
       "<div>\n",
       "<table border=\"1\" class=\"dataframe\">\n",
       "  <thead>\n",
       "    <tr style=\"text-align: right;\">\n",
       "      <th></th>\n",
       "      <th>\bELM\b</th>\n",
       "      <th>6S</th>\n",
       "      <th>ATCOR</th>\n",
       "      <th>FLAASH</th>\n",
       "      <th>SMAC</th>\n",
       "      <th>date</th>\n",
       "      <th>doi</th>\n",
       "      <th>empirical line</th>\n",
       "      <th>journal</th>\n",
       "      <th>title</th>\n",
       "      <th>month</th>\n",
       "    </tr>\n",
       "    <tr>\n",
       "      <th>month</th>\n",
       "      <th></th>\n",
       "      <th></th>\n",
       "      <th></th>\n",
       "      <th></th>\n",
       "      <th></th>\n",
       "      <th></th>\n",
       "      <th></th>\n",
       "      <th></th>\n",
       "      <th></th>\n",
       "      <th></th>\n",
       "      <th></th>\n",
       "    </tr>\n",
       "  </thead>\n",
       "  <tbody>\n",
       "    <tr>\n",
       "      <th>2</th>\n",
       "      <td>0</td>\n",
       "      <td>1</td>\n",
       "      <td>2</td>\n",
       "      <td>1</td>\n",
       "      <td>0</td>\n",
       "      <td>39</td>\n",
       "      <td>39</td>\n",
       "      <td>0</td>\n",
       "      <td>39</td>\n",
       "      <td>39</td>\n",
       "      <td>39</td>\n",
       "    </tr>\n",
       "    <tr>\n",
       "      <th>3</th>\n",
       "      <td>0</td>\n",
       "      <td>2</td>\n",
       "      <td>1</td>\n",
       "      <td>7</td>\n",
       "      <td>1</td>\n",
       "      <td>60</td>\n",
       "      <td>60</td>\n",
       "      <td>1</td>\n",
       "      <td>60</td>\n",
       "      <td>60</td>\n",
       "      <td>60</td>\n",
       "    </tr>\n",
       "  </tbody>\n",
       "</table>\n",
       "</div>"
      ],
      "text/plain": [
       "       \bELM\b  6S  ATCOR  FLAASH  SMAC  date  doi  empirical line  journal  \\\n",
       "month                                                                       \n",
       "2          0   1      2       1     0    39   39               0       39   \n",
       "3          0   2      1       7     1    60   60               1       60   \n",
       "\n",
       "       title  month  \n",
       "month                \n",
       "2         39     39  \n",
       "3         60     60  "
      ]
     },
     "execution_count": 133,
     "metadata": {},
     "output_type": "execute_result"
    }
   ],
   "source": [
    "results.groupby('month').apply(lambda x: (x > 0).sum())"
   ]
  },
  {
   "cell_type": "code",
   "execution_count": 131,
   "metadata": {
    "collapsed": false
   },
   "outputs": [
    {
     "data": {
      "text/plain": [
       "8"
      ]
     },
     "execution_count": 131,
     "metadata": {},
     "output_type": "execute_result"
    }
   ],
   "source": [
    "(results.FLAASH > 0).sum()"
   ]
  },
  {
   "cell_type": "code",
   "execution_count": null,
   "metadata": {
    "collapsed": true
   },
   "outputs": [],
   "source": []
  }
 ],
 "metadata": {
  "kernelspec": {
   "display_name": "Python 3",
   "language": "python",
   "name": "python3"
  },
  "language_info": {
   "codemirror_mode": {
    "name": "ipython",
    "version": 3
   },
   "file_extension": ".py",
   "mimetype": "text/x-python",
   "name": "python",
   "nbconvert_exporter": "python",
   "pygments_lexer": "ipython3",
   "version": "3.4.4"
  }
 },
 "nbformat": 4,
 "nbformat_minor": 0
}
