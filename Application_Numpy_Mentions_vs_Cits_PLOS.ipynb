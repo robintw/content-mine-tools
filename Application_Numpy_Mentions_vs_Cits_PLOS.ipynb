{
 "cells": [
  {
   "cell_type": "markdown",
   "metadata": {},
   "source": [
    "# Comparing citations and mentions for numpy"
   ]
  },
  {
   "cell_type": "code",
   "execution_count": 1,
   "metadata": {
    "collapsed": true
   },
   "outputs": [],
   "source": [
    "import pandas as pd"
   ]
  },
  {
   "cell_type": "code",
   "execution_count": 2,
   "metadata": {
    "collapsed": false
   },
   "outputs": [
    {
     "name": "stdout",
     "output_type": "stream",
     "text": [
      "/home/robintw/anaconda3/lib/python3.5/site-packages/ujson.cpython-35m-x86_64-linux-gnu.so\n"
     ]
    }
   ],
   "source": [
    "from PyCMLib import *"
   ]
  },
  {
   "cell_type": "markdown",
   "metadata": {},
   "source": [
    "We have the full archive of PLoS One here, and we search for a specific citation. The citation has to be given as both title and DOI as not all papers cite using DOIs."
   ]
  },
  {
   "cell_type": "code",
   "execution_count": 3,
   "metadata": {
    "collapsed": false
   },
   "outputs": [
    {
     "name": "stderr",
     "output_type": "stream",
     "text": [
      "[Parallel(n_jobs=-1)]: Done 1435 tasks      | elapsed:   23.1s\n",
      "[Parallel(n_jobs=-1)]: Done 5065 tasks      | elapsed:  1.2min\n",
      "[Parallel(n_jobs=-1)]: Done 11155 tasks      | elapsed:  2.5min\n",
      "[Parallel(n_jobs=-1)]: Done 19645 tasks      | elapsed:  4.6min\n",
      "[Parallel(n_jobs=-1)]: Done 30595 tasks      | elapsed:  7.8min\n",
      "[Parallel(n_jobs=-1)]: Done 43945 tasks      | elapsed: 11.7min\n",
      "[Parallel(n_jobs=-1)]: Done 59755 tasks      | elapsed: 16.2min\n",
      "[Parallel(n_jobs=-1)]: Done 77965 tasks      | elapsed: 20.8min\n",
      "[Parallel(n_jobs=-1)]: Done 96085 tasks      | elapsed: 25.2min\n",
      "[Parallel(n_jobs=-1)]: Done 107620 tasks      | elapsed: 27.8min\n",
      "[Parallel(n_jobs=-1)]: Done 120385 tasks      | elapsed: 30.7min\n",
      "[Parallel(n_jobs=-1)]: Done 134350 tasks      | elapsed: 33.9min\n",
      "[Parallel(n_jobs=-1)]: Done 149545 tasks      | elapsed: 37.5min\n",
      "[Parallel(n_jobs=-1)]: Done 152943 out of 152943 | elapsed: 38.4min finished\n"
     ]
    }
   ],
   "source": [
    "res = process_all_articles('FromFTP/PLoS_One/output/**', pf_get_citation,\n",
    "                           title=\"The NumPy Array: A Structure for Efficient Numerical Computation\",\n",
    "                           doi=\"10.1109/MCSE.2011.37\")"
   ]
  },
  {
   "cell_type": "code",
   "execution_count": 4,
   "metadata": {
    "collapsed": false
   },
   "outputs": [],
   "source": [
    "res = res.dropna(subset=['match_0'])"
   ]
  },
  {
   "cell_type": "code",
   "execution_count": 5,
   "metadata": {
    "collapsed": false
   },
   "outputs": [
    {
     "data": {
      "text/html": [
       "<div>\n",
       "<table border=\"1\" class=\"dataframe\">\n",
       "  <thead>\n",
       "    <tr style=\"text-align: right;\">\n",
       "      <th></th>\n",
       "      <th>date</th>\n",
       "      <th>doi</th>\n",
       "      <th>journal</th>\n",
       "      <th>match_0</th>\n",
       "      <th>match_1</th>\n",
       "      <th>title</th>\n",
       "    </tr>\n",
       "  </thead>\n",
       "  <tbody>\n",
       "    <tr>\n",
       "      <th>44099</th>\n",
       "      <td>2016-03-03</td>\n",
       "      <td>10.1371/journal.pone.0150208</td>\n",
       "      <td>PLoS ONE</td>\n",
       "      <td>ERROR: Exception raised in get_all_uses_of_cit...</td>\n",
       "      <td>NaN</td>\n",
       "      <td>Spatio-Temporal Metabolite Profiling of the Ba...</td>\n",
       "    </tr>\n",
       "    <tr>\n",
       "      <th>58583</th>\n",
       "      <td>2015-02-02</td>\n",
       "      <td>10.1371/journal.pone.0117619</td>\n",
       "      <td>PLoS ONE</td>\n",
       "      <td>Analysis was performed using IPython [ 51], Pa...</td>\n",
       "      <td>NaN</td>\n",
       "      <td>Researcher Perspectives on Publication and Pee...</td>\n",
       "    </tr>\n",
       "    <tr>\n",
       "      <th>66122</th>\n",
       "      <td>2013-03-03</td>\n",
       "      <td>10.1371/journal.pone.0059504</td>\n",
       "      <td>PLoS ONE</td>\n",
       "      <td>Here, the Numpy library **REF** is used and im...</td>\n",
       "      <td>The use of the numerical library Numpy **REF**...</td>\n",
       "      <td>On the Characterization and Software Implement...</td>\n",
       "    </tr>\n",
       "    <tr>\n",
       "      <th>104716</th>\n",
       "      <td>2015-12-12</td>\n",
       "      <td>10.1371/journal.pone.0144692</td>\n",
       "      <td>PLoS ONE</td>\n",
       "      <td>All calculations and analyses were performed i...</td>\n",
       "      <td>NaN</td>\n",
       "      <td>Reproducible Analysis of Post-Translational Mo...</td>\n",
       "    </tr>\n",
       "    <tr>\n",
       "      <th>139887</th>\n",
       "      <td>2016-02-02</td>\n",
       "      <td>10.1371/journal.pone.0147649</td>\n",
       "      <td>PLoS ONE</td>\n",
       "      <td>These include the Numpy and Scipy stack [ **RE...</td>\n",
       "      <td>NaN</td>\n",
       "      <td>MorphoTester: An Open Source Application for M...</td>\n",
       "    </tr>\n",
       "    <tr>\n",
       "      <th>146839</th>\n",
       "      <td>2015-11-11</td>\n",
       "      <td>10.1371/journal.pone.0142108</td>\n",
       "      <td>PLoS ONE</td>\n",
       "      <td>The code is in python, and processing time is ...</td>\n",
       "      <td>NaN</td>\n",
       "      <td>Network-Based and Binless Frequency Analyses N...</td>\n",
       "    </tr>\n",
       "  </tbody>\n",
       "</table>\n",
       "</div>"
      ],
      "text/plain": [
       "             date                           doi   journal  \\\n",
       "44099  2016-03-03  10.1371/journal.pone.0150208  PLoS ONE   \n",
       "58583  2015-02-02  10.1371/journal.pone.0117619  PLoS ONE   \n",
       "66122  2013-03-03  10.1371/journal.pone.0059504  PLoS ONE   \n",
       "104716 2015-12-12  10.1371/journal.pone.0144692  PLoS ONE   \n",
       "139887 2016-02-02  10.1371/journal.pone.0147649  PLoS ONE   \n",
       "146839 2015-11-11  10.1371/journal.pone.0142108  PLoS ONE   \n",
       "\n",
       "                                                  match_0  \\\n",
       "44099   ERROR: Exception raised in get_all_uses_of_cit...   \n",
       "58583   Analysis was performed using IPython [ 51], Pa...   \n",
       "66122   Here, the Numpy library **REF** is used and im...   \n",
       "104716  All calculations and analyses were performed i...   \n",
       "139887  These include the Numpy and Scipy stack [ **RE...   \n",
       "146839  The code is in python, and processing time is ...   \n",
       "\n",
       "                                                  match_1  \\\n",
       "44099                                                 NaN   \n",
       "58583                                                 NaN   \n",
       "66122   The use of the numerical library Numpy **REF**...   \n",
       "104716                                                NaN   \n",
       "139887                                                NaN   \n",
       "146839                                                NaN   \n",
       "\n",
       "                                                    title  \n",
       "44099   Spatio-Temporal Metabolite Profiling of the Ba...  \n",
       "58583   Researcher Perspectives on Publication and Pee...  \n",
       "66122   On the Characterization and Software Implement...  \n",
       "104716  Reproducible Analysis of Post-Translational Mo...  \n",
       "139887  MorphoTester: An Open Source Application for M...  \n",
       "146839  Network-Based and Binless Frequency Analyses N...  "
      ]
     },
     "execution_count": 5,
     "metadata": {},
     "output_type": "execute_result"
    }
   ],
   "source": [
    "res.to_csv('PLOS_Numpy_Citations.csv')\n",
    "res"
   ]
  },
  {
   "cell_type": "code",
   "execution_count": 6,
   "metadata": {
    "collapsed": false
   },
   "outputs": [
    {
     "name": "stdout",
     "output_type": "stream",
     "text": [
      "There were 6 citations to the numpy paper in PLoS One\n"
     ]
    }
   ],
   "source": [
    "print(\"There were %d citations to the numpy paper in PLoS One\" % len(res))"
   ]
  },
  {
   "cell_type": "markdown",
   "metadata": {},
   "source": [
    "Now we will look for _mentions_ of numpy. Here we are just searching for the string `numpy`. The regex searching functions I've written will be modified shortly to support per-regex flags, but at the moment we need to set a global case-insensitive flag (_Note: this was the mistake I made earlier...it only picked up lower-case `numpy`_)."
   ]
  },
  {
   "cell_type": "code",
   "execution_count": 7,
   "metadata": {
    "collapsed": true
   },
   "outputs": [],
   "source": [
    "import re"
   ]
  },
  {
   "cell_type": "code",
   "execution_count": 8,
   "metadata": {
    "collapsed": false,
    "scrolled": true
   },
   "outputs": [
    {
     "name": "stderr",
     "output_type": "stream",
     "text": [
      "[Parallel(n_jobs=-1)]: Done 1916 tasks      | elapsed:   15.1s\n",
      "[Parallel(n_jobs=-1)]: Done 7966 tasks      | elapsed:   55.2s\n",
      "[Parallel(n_jobs=-1)]: Done 18116 tasks      | elapsed:  1.9min\n",
      "[Parallel(n_jobs=-1)]: Done 32266 tasks      | elapsed:  3.4min\n",
      "[Parallel(n_jobs=-1)]: Done 50516 tasks      | elapsed:  5.4min\n",
      "[Parallel(n_jobs=-1)]: Done 72766 tasks      | elapsed:  7.6min\n",
      "[Parallel(n_jobs=-1)]: Done 99116 tasks      | elapsed: 10.2min\n",
      "[Parallel(n_jobs=-1)]: Done 129466 tasks      | elapsed: 12.9min\n",
      "[Parallel(n_jobs=-1)]: Done 152943 out of 152943 | elapsed: 15.1min finished\n"
     ]
    }
   ],
   "source": [
    "regex_res = process_all_articles('FromFTP/PLoS_One/output/**', pf_count_regex, regexes=[('numpy')], flags=re.IGNORECASE)"
   ]
  },
  {
   "cell_type": "code",
   "execution_count": 11,
   "metadata": {
    "collapsed": false
   },
   "outputs": [
    {
     "name": "stdout",
     "output_type": "stream",
     "text": [
      "There were 84 mentions of the phrase 'numpy' in PLoS One\n"
     ]
    }
   ],
   "source": [
    "print(\"There were %d mentions of the phrase 'numpy' in PLoS One\" % len(regex_res[regex_res.numpy > 0]))"
   ]
  }
 ],
 "metadata": {
  "kernelspec": {
   "display_name": "Python 3",
   "language": "python",
   "name": "python3"
  },
  "language_info": {
   "codemirror_mode": {
    "name": "ipython",
    "version": 3
   },
   "file_extension": ".py",
   "mimetype": "text/x-python",
   "name": "python",
   "nbconvert_exporter": "python",
   "pygments_lexer": "ipython3",
   "version": "3.5.1"
  }
 },
 "nbformat": 4,
 "nbformat_minor": 0
}
